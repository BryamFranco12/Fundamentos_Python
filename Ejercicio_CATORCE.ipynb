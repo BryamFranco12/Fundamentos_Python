{
  "nbformat": 4,
  "nbformat_minor": 0,
  "metadata": {
    "colab": {
      "provenance": [],
      "include_colab_link": true
    },
    "kernelspec": {
      "name": "python3",
      "display_name": "Python 3"
    },
    "language_info": {
      "name": "python"
    }
  },
  "cells": [
    {
      "cell_type": "markdown",
      "metadata": {
        "id": "view-in-github",
        "colab_type": "text"
      },
      "source": [
        "<a href=\"https://colab.research.google.com/github/BryamFranco12/Fundamentos_Python/blob/main/Ejercicio_CATORCE.ipynb\" target=\"_parent\"><img src=\"https://colab.research.google.com/assets/colab-badge.svg\" alt=\"Open In Colab\"/></a>"
      ]
    },
    {
      "cell_type": "code",
      "execution_count": 1,
      "metadata": {
        "id": "Be7_HB0fQrQX",
        "outputId": "7f9f4a55-9458-460f-a2d2-8024541ebcce",
        "colab": {
          "base_uri": "https://localhost:8080/"
        }
      },
      "outputs": [
        {
          "output_type": "stream",
          "name": "stdout",
          "text": [
            "Digite un número mayor que 1: 2\n",
            "\n",
            "Digite la cantidad de FILAS para la matriz #1: 2\n",
            "Digite la cantidad de COLUMNAS para la matriz #1: 2\n",
            "Digite el valor para la posición (1, 1) de la matriz #1: 1\n",
            "Digite el valor para la posición (1, 2) de la matriz #1: 2\n",
            "Digite el valor para la posición (2, 1) de la matriz #1: 3\n",
            "Digite el valor para la posición (2, 2) de la matriz #1: 4\n",
            "\n",
            "Digite la cantidad de FILAS para la matriz #2: 2\n",
            "Digite la cantidad de COLUMNAS para la matriz #2: 2\n",
            "Digite el valor para la posición (1, 1) de la matriz #2: 4\n",
            "Digite el valor para la posición (1, 2) de la matriz #2: 3\n",
            "Digite el valor para la posición (2, 1) de la matriz #2: 2\n",
            "Digite el valor para la posición (2, 2) de la matriz #2: 1\n",
            "\n",
            "SUMA DE MATRICES:\n",
            "1 2 \n",
            "3 4 \n",
            "+\n",
            "4 3 \n",
            "2 1 \n",
            "=\n",
            "5 5 \n",
            "5 5 \n"
          ]
        }
      ],
      "source": [
        "def input_numero_mayor_que(n):\n",
        "    numero = int(input(f\"Digite un número mayor que {n}: \"))\n",
        "    while numero <= n:\n",
        "        print(f\"El número debe ser mayor que {n}.\")\n",
        "        numero = int(input(f\"Digite un número mayor que {n}: \"))\n",
        "    return numero\n",
        "\n",
        "cantidad_matrices = input_numero_mayor_que(1)\n",
        "\n",
        "matrices = []\n",
        "\n",
        "for i in range(cantidad_matrices):\n",
        "    filas = int(input(f\"\\nDigite la cantidad de FILAS para la matriz #{i + 1}: \"))\n",
        "    columnas = int(input(f\"Digite la cantidad de COLUMNAS para la matriz #{i + 1}: \"))\n",
        "    matriz = []\n",
        "    for fila in range(filas):\n",
        "        fila_matriz = []\n",
        "        for columna in range(columnas):\n",
        "            valor = int(input(f\"Digite el valor para la posición ({fila + 1}, {columna + 1}) de la matriz #{i + 1}: \"))\n",
        "            fila_matriz.append(valor)\n",
        "        matriz.append(fila_matriz)\n",
        "    matrices.append(matriz)\n",
        "\n",
        "resultado = matrices[0]\n",
        "\n",
        "for matriz in matrices[1:]:\n",
        "    if len(matriz) != len(resultado) or len(matriz[0]) != len(resultado[0]):\n",
        "        print(\"No se pueden sumar matrices de diferentes tamaños.\")\n",
        "        break\n",
        "    resultado = [[resultado[i][j] + matriz[i][j] for j in range(len(resultado[0]))] for i in range(len(resultado))]\n",
        "\n",
        "print(\"\\nSUMA DE MATRICES:\")\n",
        "\n",
        "for i, matriz in enumerate(matrices):\n",
        "    if i > 0:\n",
        "        print(\"+\")\n",
        "    for fila in matriz:\n",
        "        for elemento in fila:\n",
        "            print(elemento, end=\" \")\n",
        "        print()\n",
        "\n",
        "print(\"=\")\n",
        "\n",
        "for fila in resultado:\n",
        "    for elemento in fila:\n",
        "        print(elemento, end=\" \")\n",
        "    print()\n"
      ]
    }
  ]
}
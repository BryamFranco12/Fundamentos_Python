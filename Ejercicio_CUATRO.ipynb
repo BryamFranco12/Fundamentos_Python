{
  "nbformat": 4,
  "nbformat_minor": 0,
  "metadata": {
    "colab": {
      "provenance": [],
      "authorship_tag": "ABX9TyMAxwexoPhg8rdWKyPblg2r",
      "include_colab_link": true
    },
    "kernelspec": {
      "name": "python3",
      "display_name": "Python 3"
    },
    "language_info": {
      "name": "python"
    }
  },
  "cells": [
    {
      "cell_type": "markdown",
      "metadata": {
        "id": "view-in-github",
        "colab_type": "text"
      },
      "source": [
        "<a href=\"https://colab.research.google.com/github/BryamFranco12/Fundamentos_Python/blob/main/Ejercicio_CUATRO.ipynb\" target=\"_parent\"><img src=\"https://colab.research.google.com/assets/colab-badge.svg\" alt=\"Open In Colab\"/></a>"
      ]
    },
    {
      "cell_type": "code",
      "execution_count": 1,
      "metadata": {
        "colab": {
          "base_uri": "https://localhost:8080/"
        },
        "id": "VJ2s3lxr8bO4",
        "outputId": "f3c5e88e-1df5-49c1-c8f6-7df6ebda2b68"
      },
      "outputs": [
        {
          "output_type": "stream",
          "name": "stdout",
          "text": [
            "Digite El Primer Numero: 23\n",
            "Digite El Segundo Numero: 2\n",
            "Que desea hacer con los numeros ingresados:\n",
            "A.[SUMA]\n",
            "B.[RESTA]\n",
            "C.[MULTIPLICACION]\n",
            "D.[DIVISION]\n",
            "E.[DIVISION ENTERA]\n",
            "F.[EXPONENTE]\n",
            "G.[MODULO]\n",
            ":G\n",
            "[MODULO] 23 % 2 = 1\n",
            "El Modulo es el restante de la division\n"
          ]
        }
      ],
      "source": [
        "n1 = int(input(\"Digite El Primer Numero: \"))\n",
        "n2 = int(input(\"Digite El Segundo Numero: \"))\n",
        "\n",
        "opcion = input(\"Que desea hacer con los numeros ingresados:\\nA.[SUMA]\\nB.[RESTA]\\nC.[MULTIPLICACION]\"\n",
        "               \"\\nD.[DIVISION]\\nE.[DIVISION ENTERA]\\nF.[EXPONENTE]\\nG.[MODULO]\\n:\")\n",
        "\n",
        "if opcion == \"A\":\n",
        "    print(f\"[SUMA] {n1} + {n2} = {n1 + n2}\")\n",
        "elif opcion == \"B\":\n",
        "    print(f\"[RESTA] {n1} - {n2} = {n1 - n2}\")\n",
        "elif opcion == \"C\":\n",
        "    print(f\"[MULTIPLICACION] {n1} x {n2} = {n1 * n2}\")\n",
        "elif opcion == \"D\":\n",
        "    print(f\"[DIVISION] {n1}/{n2} = {n1 / n2}\")\n",
        "elif opcion == \"E\":\n",
        "    print(f\"[DIVISION ENTERA] {n1}//{n2} = {n1 // n2}\")\n",
        "elif opcion == \"F\":\n",
        "    print(f\"[EXPONENTE] {n1} ** {n2} = {n1 ** n2}\")\n",
        "elif opcion == \"G\":\n",
        "    print(f\"[MODULO] {n1} % {n2} = {n1 % n2}\")\n",
        "    print(\"El Modulo es el restante de la division\")"
      ]
    }
  ]
}
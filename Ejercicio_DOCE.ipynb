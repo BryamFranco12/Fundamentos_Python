{
  "nbformat": 4,
  "nbformat_minor": 0,
  "metadata": {
    "colab": {
      "provenance": [],
      "include_colab_link": true
    },
    "kernelspec": {
      "name": "python3",
      "display_name": "Python 3"
    },
    "language_info": {
      "name": "python"
    }
  },
  "cells": [
    {
      "cell_type": "markdown",
      "metadata": {
        "id": "view-in-github",
        "colab_type": "text"
      },
      "source": [
        "<a href=\"https://colab.research.google.com/github/BryamFranco12/Fundamentos_Python/blob/main/Ejercicio_DOCE.ipynb\" target=\"_parent\"><img src=\"https://colab.research.google.com/assets/colab-badge.svg\" alt=\"Open In Colab\"/></a>"
      ]
    },
    {
      "cell_type": "code",
      "execution_count": null,
      "metadata": {
        "id": "ytIg09Mz-0B7"
      },
      "outputs": [],
      "source": [
        "numeros = [1, 2, 3, 4, 5]\n",
        "\n",
        "numeros_eliminados = [numeros.pop(0), numeros.pop()]\n",
        "\n",
        "numeros_restantes = numeros\n",
        "\n",
        "print(\"Elementos restantes:\", numeros_restantes)\n",
        "print(\"Elementos eliminados:\", numeros_eliminados)"
      ]
    },
    {
      "cell_type": "code",
      "source": [],
      "metadata": {
        "id": "b5PEOaKdXAqn"
      },
      "execution_count": null,
      "outputs": []
    }
  ]
}
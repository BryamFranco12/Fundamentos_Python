{
  "nbformat": 4,
  "nbformat_minor": 0,
  "metadata": {
    "colab": {
      "provenance": [],
      "authorship_tag": "ABX9TyOQSK2nX8v2HmYg/PP3OJ7q",
      "include_colab_link": true
    },
    "kernelspec": {
      "name": "python3",
      "display_name": "Python 3"
    },
    "language_info": {
      "name": "python"
    }
  },
  "cells": [
    {
      "cell_type": "markdown",
      "metadata": {
        "id": "view-in-github",
        "colab_type": "text"
      },
      "source": [
        "<a href=\"https://colab.research.google.com/github/BryamFranco12/Fundamentos_Python/blob/main/Ejercicio_DOS.ipynb\" target=\"_parent\"><img src=\"https://colab.research.google.com/assets/colab-badge.svg\" alt=\"Open In Colab\"/></a>"
      ]
    },
    {
      "cell_type": "code",
      "execution_count": 2,
      "metadata": {
        "colab": {
          "base_uri": "https://localhost:8080/"
        },
        "id": "nb3uBQ0wRzIN",
        "outputId": "5951b98c-0908-4606-ab14-9f88c4a78175"
      },
      "outputs": [
        {
          "output_type": "stream",
          "name": "stdout",
          "text": [
            "Ingrese el numero: 42\n",
            "EL NUMERO INGRESADO 42 es Par\n"
          ]
        }
      ],
      "source": [
        "# Par o Impar\n",
        "\n",
        "numero = int(input(\"Ingrese el numero: \"))\n",
        "\n",
        "numerodef = numero % 2\n",
        "\n",
        "if numerodef == 0:\n",
        "    print(\"EL NUMERO INGRESADO\", numero, \"es Par\")\n",
        "else:\n",
        "    print(\"EL NUMERO INGRESADO\", numero, \"es Impar\")"
      ]
    }
  ]
}
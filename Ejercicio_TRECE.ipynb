{
  "nbformat": 4,
  "nbformat_minor": 0,
  "metadata": {
    "colab": {
      "provenance": [],
      "include_colab_link": true
    },
    "kernelspec": {
      "name": "python3",
      "display_name": "Python 3"
    },
    "language_info": {
      "name": "python"
    }
  },
  "cells": [
    {
      "cell_type": "markdown",
      "metadata": {
        "id": "view-in-github",
        "colab_type": "text"
      },
      "source": [
        "<a href=\"https://colab.research.google.com/github/BryamFranco12/Fundamentos_Python/blob/main/Ejercicio_TRECE.ipynb\" target=\"_parent\"><img src=\"https://colab.research.google.com/assets/colab-badge.svg\" alt=\"Open In Colab\"/></a>"
      ]
    },
    {
      "cell_type": "code",
      "execution_count": 2,
      "metadata": {
        "id": "WLvcoCIRd4Wk",
        "outputId": "dfdc39eb-327f-464a-d970-0313f95fca97",
        "colab": {
          "base_uri": "https://localhost:8080/"
        }
      },
      "outputs": [
        {
          "output_type": "stream",
          "name": "stdout",
          "text": [
            "Digite la cantidad de FILAS que quiere que tenga la matriz: 2\n",
            "Digite la cantidad de COLUMNAS que quiere que tenga la matriz: 2\n",
            "\n",
            "Digite el valor para la posición (1, 1): 1\n",
            "\n",
            "Digite el valor para la posición (1, 2): 2\n",
            "\n",
            "Digite el valor para la posición (2, 1): 33\n",
            "\n",
            "Digite el valor para la posición (2, 2): 4\n",
            "\n",
            "MATRIZ RESULTANTE:\n",
            "1 2 \n",
            "33 4 \n"
          ]
        }
      ],
      "source": [
        "num_filas = int(input(\"Ingrese la cantidad de [filas] que desea para la matriz: \"))\n",
        "num_columnas = int(input(\"Ingrese la cantidad de [colomnas] que desea para la matriz: \"))\n",
        "\n",
        "matriz = []\n",
        "\n",
        "for i in range(num_filas):\n",
        "    fila = []\n",
        "    for j in range(num_columnas):\n",
        "        valor = int(input(f\"\\nIngrese el valor para la posición ({i+1}, {j+1}): \"))\n",
        "        fila.append(valor)\n",
        "    matriz.append(fila)\n",
        "\n",
        "print(\"\\nMATRIZ:\")\n",
        "for fila in matriz:\n",
        "    for elemento in fila:\n",
        "        print(elemento, end=\" \")\n",
        "    print()\n"
      ]
    }
  ]
}
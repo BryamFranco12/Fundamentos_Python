{
  "nbformat": 4,
  "nbformat_minor": 0,
  "metadata": {
    "colab": {
      "provenance": [],
      "authorship_tag": "ABX9TyMufWKHf2tP0bXBYx6u4zqI",
      "include_colab_link": true
    },
    "kernelspec": {
      "name": "python3",
      "display_name": "Python 3"
    },
    "language_info": {
      "name": "python"
    }
  },
  "cells": [
    {
      "cell_type": "markdown",
      "metadata": {
        "id": "view-in-github",
        "colab_type": "text"
      },
      "source": [
        "<a href=\"https://colab.research.google.com/github/BryamFranco12/Fundamentos_Python/blob/main/Ejercicio_TRES.ipynb\" target=\"_parent\"><img src=\"https://colab.research.google.com/assets/colab-badge.svg\" alt=\"Open In Colab\"/></a>"
      ]
    },
    {
      "cell_type": "code",
      "execution_count": 7,
      "metadata": {
        "colab": {
          "base_uri": "https://localhost:8080/"
        },
        "id": "nb3uBQ0wRzIN",
        "outputId": "08264b21-2f00-42be-ce71-93c97273a018"
      },
      "outputs": [
        {
          "output_type": "stream",
          "name": "stdout",
          "text": [
            "Primer numero: 10\n",
            "Segundo numero: 11\n",
            "Tercer numero: 9\n",
            "El numero mayor entre [10]-[11]-[9] es el 11\n"
          ]
        }
      ],
      "source": [
        "N1 = int(input(\"Primer numero: \"))\n",
        "N2 = int(input(\"Segundo numero: \"))\n",
        "N3 = int(input(\"Tercer numero: \"))\n",
        "\n",
        "print(\"El numero mayor entre [{}]-[{}]-[{}] es el {}\".format(N1, N2, N3, max(N1, N2, N3)))"
      ]
    }
  ]
}
{
  "cells": [
    {
      "cell_type": "markdown",
      "metadata": {
        "id": "view-in-github",
        "colab_type": "text"
      },
      "source": [
        "<a href=\"https://colab.research.google.com/github/BryamFranco12/Fundamentos_Python/blob/main/Ejercicio_UNO.ipynb\" target=\"_parent\"><img src=\"https://colab.research.google.com/assets/colab-badge.svg\" alt=\"Open In Colab\"/></a>"
      ]
    },
    {
      "cell_type": "code",
      "source": [
        "# EMPRESA DE TEXTILES\n",
        "\n",
        "nombre = input(\"Ingrese su nombre: \")\n",
        "departamento = int(input(\"A que departamento perteneces\\n[1001]Atencion al cliente\\n[1002]Logistica\"\n",
        "                         \"\\n[1003]Gerencia\\n: \"))\n",
        "antiguedad = int(input(\"Hace cuantos año[s] presta servicio en la empresa: \"))\n",
        "\n",
        "if departamento == 1001:  # DEPARTAMENTO DE ATENCION AL CLIENTE\n",
        "    if antiguedad == 1:\n",
        "        print(\"El trabajador {} del departamento de atencion al cliente cuenta con una antiguedad de {} \"\n",
        "              \"año en la empresa\".format(nombre, antiguedad))\n",
        "        print(\"\\nTiene Derecho a (6) Dias de vacaciones\")\n",
        "\n",
        "    elif 2 <= antiguedad <= 6:\n",
        "        print(\"El trabajador {} del departamento de atencion al cliente cuenta con una antiguedad de {} \"\n",
        "              \"años en la empresa\".format(nombre, antiguedad))\n",
        "        print(\"\\nTiene Derecho a (14) Dias de vacaciones\")\n",
        "\n",
        "    elif antiguedad >= 7:\n",
        "        print(\"El trabajador {} del departamento de atencion al cliente cuenta con una antiguedad de {} \"\n",
        "              \"años en la empresa\".format(nombre, antiguedad))\n",
        "        print(\"\\nTiene Derecho a (20) Dias de vacaciones\")\n",
        "\n",
        "elif departamento == 1002:  # DEPARTAMENTO DE LOGISTICA\n",
        "    if antiguedad == 1:\n",
        "        print(\"El trabajador {} del departamento de logistica cuenta con una antiguedad de {} \"\n",
        "              \"año en la empresa\".format(nombre, antiguedad))\n",
        "        print(\"\\nTiene Derecho a (7) Dias de vacaciones\")\n",
        "\n",
        "    elif 2 <= antiguedad <= 6:\n",
        "        print(\"El trabajador {} del departamento de logistica cuenta con una antiguedad de {} \"\n",
        "              \"años en la empresa\".format(nombre, antiguedad))\n",
        "        print(\"\\nTiene Derecho a (15) Dias de vacaciones\")\n",
        "\n",
        "    elif antiguedad >= 7:\n",
        "        print(\"El trabajador {} del departamento de logistica cuenta con una antiguedad de {} \"\n",
        "              \"años en la empresa\".format(nombre, antiguedad))\n",
        "        print(\"\\nTiene Derecho a (22) Dias de vacaciones\")\n",
        "\n",
        "elif departamento == 1003:  # DEPARTAMENTO DE GERENCIA\n",
        "    if antiguedad == 1:\n",
        "        print(\"El trabajador {} del departamento de gerencia cuenta con una antiguedad de {} \"\n",
        "              \"año en la empresa\".format(nombre, antiguedad))\n",
        "        print(\"\\nTiene Derecho a (10) Dias de vacaciones\")\n",
        "\n",
        "    elif 2 <= antiguedad <= 6:\n",
        "        print(\"El trabajador {} del departamento de gerencia cuenta con una antiguedad de {} \"\n",
        "              \"años en la empresa\".format(nombre, antiguedad))\n",
        "        print(\"\\nTiene Derecho a (20) Dias de vacaciones\")\n",
        "\n",
        "    elif antiguedad >= 7:\n",
        "        print(\"El trabajador {} del departamento de gerencia cuenta con una antiguedad de {} \"\n",
        "              \"años en la empresa\".format(nombre, antiguedad))\n",
        "        print(\"\\nTiene Derecho a (30) Dias de vacaciones\")"
      ],
      "metadata": {
        "id": "OsM1MjqRQetQ",
        "outputId": "2cf264e7-a8fc-4459-ffc8-384f640d0d28",
        "colab": {
          "base_uri": "https://localhost:8080/"
        }
      },
      "execution_count": 1,
      "outputs": [
        {
          "output_type": "stream",
          "name": "stdout",
          "text": [
            "Ingrese su nombre: bryam\n",
            "A que departamento perteneces\n",
            "[1001]Atencion al cliente\n",
            "[1002]Logistica\n",
            "[1003]Gerencia\n",
            ": 1001\n",
            "Hace cuantos año[s] presta servicio en la empresa: 5\n",
            "El trabajador bryam del departamento de atencion al cliente cuenta con una antiguedad de 5 años en la empresa\n",
            "\n",
            "Tiene Derecho a (14) Dias de vacaciones\n"
          ]
        }
      ]
    }
  ],
  "metadata": {
    "colab": {
      "name": "Te damos la bienvenida a Colaboratory",
      "toc_visible": true,
      "provenance": [],
      "include_colab_link": true
    },
    "kernelspec": {
      "display_name": "Python 3",
      "name": "python3"
    }
  },
  "nbformat": 4,
  "nbformat_minor": 0
}